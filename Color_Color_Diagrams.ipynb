{
 "cells": [
  {
   "cell_type": "markdown",
   "id": "290107ef",
   "metadata": {},
   "source": [
    "## COLOR-COLOR DIAGRAMS "
   ]
  },
  {
   "cell_type": "code",
   "execution_count": 3,
   "id": "abba5d4b",
   "metadata": {},
   "outputs": [],
   "source": [
    "%run Building_DataFrames.ipynb"
   ]
  },
  {
   "cell_type": "code",
   "execution_count": 25,
   "id": "f3072e19",
   "metadata": {},
   "outputs": [
    {
     "data": {
      "text/html": [
       "<div>\n",
       "<style scoped>\n",
       "    .dataframe tbody tr th:only-of-type {\n",
       "        vertical-align: middle;\n",
       "    }\n",
       "\n",
       "    .dataframe tbody tr th {\n",
       "        vertical-align: top;\n",
       "    }\n",
       "\n",
       "    .dataframe thead th {\n",
       "        text-align: right;\n",
       "    }\n",
       "</style>\n",
       "<table border=\"1\" class=\"dataframe\">\n",
       "  <thead>\n",
       "    <tr style=\"text-align: right;\">\n",
       "      <th></th>\n",
       "      <th>file_name</th>\n",
       "      <th>TICID</th>\n",
       "      <th>SECTOR</th>\n",
       "      <th>file_type</th>\n",
       "      <th>PDCSAP_FLUX</th>\n",
       "      <th>gaia_dr2</th>\n",
       "      <th>ra</th>\n",
       "      <th>dec</th>\n",
       "      <th>name</th>\n",
       "      <th>simbad</th>\n",
       "      <th>bp_rp</th>\n",
       "      <th>bp_g</th>\n",
       "      <th>g_rp</th>\n",
       "    </tr>\n",
       "  </thead>\n",
       "  <tbody>\n",
       "    <tr>\n",
       "      <th>0</th>\n",
       "      <td>C:\\Users\\fatim\\CV_Research_Folder\\TESS_DATA_1\\...</td>\n",
       "      <td>25133286</td>\n",
       "      <td>27</td>\n",
       "      <td>a_fast-lc</td>\n",
       "      <td>TRUE</td>\n",
       "      <td>4653893040002306432</td>\n",
       "      <td>62.297486</td>\n",
       "      <td>-71.294876</td>\n",
       "      <td>VW Hyi</td>\n",
       "      <td>http://simbad.u-strasbg.fr/simbad/sim-id?Ident...</td>\n",
       "      <td>0.48403</td>\n",
       "      <td>0.102335</td>\n",
       "      <td>0.381695</td>\n",
       "    </tr>\n",
       "    <tr>\n",
       "      <th>1</th>\n",
       "      <td>C:\\Users\\fatim\\CV_Research_Folder\\TESS_DATA_1\\...</td>\n",
       "      <td>25133286</td>\n",
       "      <td>27</td>\n",
       "      <td>a_fast-tp</td>\n",
       "      <td>FALSE</td>\n",
       "      <td>4653893040002306432</td>\n",
       "      <td>62.297486</td>\n",
       "      <td>-71.294876</td>\n",
       "      <td>VW Hyi</td>\n",
       "      <td>http://simbad.u-strasbg.fr/simbad/sim-id?Ident...</td>\n",
       "      <td>0.48403</td>\n",
       "      <td>0.102335</td>\n",
       "      <td>0.381695</td>\n",
       "    </tr>\n",
       "    <tr>\n",
       "      <th>2</th>\n",
       "      <td>C:\\Users\\fatim\\CV_Research_Folder\\TESS_DATA_1\\...</td>\n",
       "      <td>25133286</td>\n",
       "      <td>27</td>\n",
       "      <td>s_lc</td>\n",
       "      <td>TRUE</td>\n",
       "      <td>4653893040002306432</td>\n",
       "      <td>62.297486</td>\n",
       "      <td>-71.294876</td>\n",
       "      <td>VW Hyi</td>\n",
       "      <td>http://simbad.u-strasbg.fr/simbad/sim-id?Ident...</td>\n",
       "      <td>0.48403</td>\n",
       "      <td>0.102335</td>\n",
       "      <td>0.381695</td>\n",
       "    </tr>\n",
       "    <tr>\n",
       "      <th>3</th>\n",
       "      <td>C:\\Users\\fatim\\CV_Research_Folder\\TESS_DATA_1\\...</td>\n",
       "      <td>25133286</td>\n",
       "      <td>27</td>\n",
       "      <td>s_tp</td>\n",
       "      <td>FALSE</td>\n",
       "      <td>4653893040002306432</td>\n",
       "      <td>62.297486</td>\n",
       "      <td>-71.294876</td>\n",
       "      <td>VW Hyi</td>\n",
       "      <td>http://simbad.u-strasbg.fr/simbad/sim-id?Ident...</td>\n",
       "      <td>0.48403</td>\n",
       "      <td>0.102335</td>\n",
       "      <td>0.381695</td>\n",
       "    </tr>\n",
       "    <tr>\n",
       "      <th>4</th>\n",
       "      <td>C:\\Users\\fatim\\CV_Research_Folder\\TESS_DATA_1\\...</td>\n",
       "      <td>25133286</td>\n",
       "      <td>29</td>\n",
       "      <td>a_fast-lc</td>\n",
       "      <td>TRUE</td>\n",
       "      <td>4653893040002306432</td>\n",
       "      <td>62.297486</td>\n",
       "      <td>-71.294876</td>\n",
       "      <td>VW Hyi</td>\n",
       "      <td>http://simbad.u-strasbg.fr/simbad/sim-id?Ident...</td>\n",
       "      <td>0.48403</td>\n",
       "      <td>0.102335</td>\n",
       "      <td>0.381695</td>\n",
       "    </tr>\n",
       "  </tbody>\n",
       "</table>\n",
       "</div>"
      ],
      "text/plain": [
       "                                           file_name     TICID SECTOR  \\\n",
       "0  C:\\Users\\fatim\\CV_Research_Folder\\TESS_DATA_1\\...  25133286     27   \n",
       "1  C:\\Users\\fatim\\CV_Research_Folder\\TESS_DATA_1\\...  25133286     27   \n",
       "2  C:\\Users\\fatim\\CV_Research_Folder\\TESS_DATA_1\\...  25133286     27   \n",
       "3  C:\\Users\\fatim\\CV_Research_Folder\\TESS_DATA_1\\...  25133286     27   \n",
       "4  C:\\Users\\fatim\\CV_Research_Folder\\TESS_DATA_1\\...  25133286     29   \n",
       "\n",
       "   file_type PDCSAP_FLUX             gaia_dr2         ra        dec    name  \\\n",
       "0  a_fast-lc        TRUE  4653893040002306432  62.297486 -71.294876  VW Hyi   \n",
       "1  a_fast-tp       FALSE  4653893040002306432  62.297486 -71.294876  VW Hyi   \n",
       "2       s_lc        TRUE  4653893040002306432  62.297486 -71.294876  VW Hyi   \n",
       "3       s_tp       FALSE  4653893040002306432  62.297486 -71.294876  VW Hyi   \n",
       "4  a_fast-lc        TRUE  4653893040002306432  62.297486 -71.294876  VW Hyi   \n",
       "\n",
       "                                              simbad    bp_rp      bp_g  \\\n",
       "0  http://simbad.u-strasbg.fr/simbad/sim-id?Ident...  0.48403  0.102335   \n",
       "1  http://simbad.u-strasbg.fr/simbad/sim-id?Ident...  0.48403  0.102335   \n",
       "2  http://simbad.u-strasbg.fr/simbad/sim-id?Ident...  0.48403  0.102335   \n",
       "3  http://simbad.u-strasbg.fr/simbad/sim-id?Ident...  0.48403  0.102335   \n",
       "4  http://simbad.u-strasbg.fr/simbad/sim-id?Ident...  0.48403  0.102335   \n",
       "\n",
       "       g_rp  \n",
       "0  0.381695  \n",
       "1  0.381695  \n",
       "2  0.381695  \n",
       "3  0.381695  \n",
       "4  0.381695  "
      ]
     },
     "execution_count": 25,
     "metadata": {},
     "output_type": "execute_result"
    }
   ],
   "source": [
    "sel.head()"
   ]
  },
  {
   "cell_type": "markdown",
   "id": "5eb577f8",
   "metadata": {},
   "source": [
    "### For selected data points:"
   ]
  },
  {
   "cell_type": "code",
   "execution_count": 72,
   "id": "d45f440b",
   "metadata": {},
   "outputs": [
    {
     "data": {
      "image/png": "[encoded data removed]",
      "text/plain": [
       "<Figure size 1080x360 with 3 Axes>"
      ]
     },
     "metadata": {
      "needs_background": "light"
     },
     "output_type": "display_data"
    }
   ],
   "source": [
    "s_c = sel.groupby(by=['TICID','bp_rp','bp_g','g_rp'],as_index=False).agg({'SECTOR':len})\n",
    "m_c = may.groupby(by=['TICID','bp_rp','bp_g','g_rp'],as_index=False).agg({'SECTOR':len})\n",
    "\n",
    "fig, (ax1, ax2, ax3) = plt.subplots(1, 3, figsize=(15,5))\n",
    "#fig.suptitle('Horizontally stacked subplots')\n",
    "\n",
    "ax1.scatter(s_c['bp_rp'], s_c['bp_g'], s=4,label='Selected')\n",
    "ax1.scatter(m_c['bp_rp'], m_c['bp_g'], s=4, label='Maybe List')\n",
    "ax1.set_xlabel('bp - rp', size = 13)\n",
    "ax1.set_ylabel('bp - g', size=13)\n",
    "ax1.legend()\n",
    "\n",
    "ax2.scatter(s_c['g_rp'], s_c['bp_rp'], s=4,label='Selected')\n",
    "ax2.scatter(m_c['g_rp'], m_c['bp_rp'], s=4, label='Maybe List')\n",
    "ax2.set_xlabel('g - rp', size = 13)\n",
    "ax2.set_ylabel('bp - rp', size=13)\n",
    "ax2.legend();\n",
    "\n",
    "ax3.scatter(s_c['bp_g'], s_c['g_rp'], s=4,label='Selected')\n",
    "ax3.scatter(m_c['bp_g'], m_c['g_rp'], s=4, label='Maybe List')\n",
    "ax3.set_xlabel('bp - g', size = 13)\n",
    "ax3.set_ylabel('g - rp', size=13)\n",
    "ax3.legend()\n",
    "plt.tight_layout()\n",
    "plt.savefig('ccplots');"
   ]
  },
  {
   "cell_type": "code",
   "execution_count": null,
   "id": "330e495d",
   "metadata": {},
   "outputs": [],
   "source": []
  }
 ],
 "metadata": {
  "kernelspec": {
   "display_name": "Python 3",
   "language": "python",
   "name": "python3"
  },
  "language_info": {
   "codemirror_mode": {
    "name": "ipython",
    "version": 3
   },
   "file_extension": ".py",
   "mimetype": "text/x-python",
   "name": "python",
   "nbconvert_exporter": "python",
   "pygments_lexer": "ipython3",
   "version": "3.9.5"
  }
 },
 "nbformat": 4,
 "nbformat_minor": 5
}
